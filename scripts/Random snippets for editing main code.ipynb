{
 "cells": [
  {
   "cell_type": "markdown",
   "metadata": {},
   "source": [
    "### Random snippets for checking and editing main code"
   ]
  },
  {
   "cell_type": "code",
   "execution_count": 1,
   "metadata": {},
   "outputs": [
    {
     "name": "stderr",
     "output_type": "stream",
     "text": [
      "WARNING:root:Could not import gdxcc. Trying to use pre-compiled libraries\n"
     ]
    }
   ],
   "source": [
    "%matplotlib inline\n",
    "from __future__ import division\n",
    "import pandas as pd\n",
    "import numpy as np\n",
    "import matplotlib.pyplot as plt\n",
    "from matplotlib.pyplot import *\n",
    "import seaborn as sns\n",
    "import matplotlib.dates as mdates\n",
    "#plt.style.use('seaborn-colorblind')\n",
    "import pickle\n",
    "import sys\n",
    "sys.path.append(\"..\")\n",
    "import DispaSET as ds"
   ]
  },
  {
   "cell_type": "code",
   "execution_count": 2,
   "metadata": {},
   "outputs": [
    {
     "data": {
      "text/plain": [
       "<module 'DispaSET.postprocessing.postprocessing' from '../DispaSET/postprocessing/postprocessing.pyc'>"
      ]
     },
     "execution_count": 2,
     "metadata": {},
     "output_type": "execute_result"
    }
   ],
   "source": [
    "from DispaSET.postprocessing import postprocessing as post\n",
    "reload(post)"
   ]
  },
  {
   "cell_type": "code",
   "execution_count": 3,
   "metadata": {},
   "outputs": [],
   "source": [
    "pd.options.display.max_rows = 60   #default 60 (None)\n",
    "pd.options.display.max_columns = 60   #default 60 (None)\n",
    "np.set_printoptions(threshold=1000)   #default 1000 (np.inf)"
   ]
  },
  {
   "cell_type": "code",
   "execution_count": 4,
   "metadata": {},
   "outputs": [
    {
     "name": "stderr",
     "output_type": "stream",
     "text": [
      "\u001b[32m[INFO    ] (gdx_to_list): Loading gdx file ../Simulations/neww_int/Results.gdx took 0.275912046432s\u001b[0m\n",
      "\u001b[32m[INFO    ] (gdx_to_dataframe): Time to convert to dataframes: 0.112210988998s\u001b[0m\n"
     ]
    }
   ],
   "source": [
    "from DispaSET.misc.gdx_handler import gdx_to_list, gdx_to_dataframe, get_gams_path\n",
    "resultfile = '../Simulations/neww_int/Results.gdx'\n",
    "gams_dir = '/Applications/GAMS26.1/sysdir'\n",
    "\n",
    "Results1 = gdx_to_dataframe(gdx_to_list(gams_dir, resultfile, varname='all', verbose=True), fixindex=True,verbose=True)"
   ]
  },
  {
   "cell_type": "code",
   "execution_count": 4,
   "metadata": {},
   "outputs": [
    {
     "name": "stdout",
     "output_type": "stream",
     "text": [
      "WARNING: the colored console output is failing (possibly because of ipython). Switching to monochromatic output\n"
     ]
    },
    {
     "name": "stderr",
     "output_type": "stream",
     "text": [
      "[INFO    ] (gdx_to_list): Loading gdx file ../Simulations/simulation_GCC_sub4/Results.gdx took 9.80907988548s\n",
      "[INFO    ] (gdx_to_dataframe): Time to convert to dataframes: 3.2671380043s\n"
     ]
    }
   ],
   "source": [
    "from DispaSET.misc.gdx_handler import gdx_to_list, gdx_to_dataframe, get_gams_path\n",
    "resultfile = '../Simulations/simulation_GCC_sub4/Results.gdx'\n",
    "gams_dir = '/Applications/GAMS26.1/sysdir'\n",
    "\n",
    "Results1 = gdx_to_dataframe(gdx_to_list(gams_dir, resultfile, varname='all', verbose=True), fixindex=True,verbose=True)"
   ]
  },
  {
   "cell_type": "code",
   "execution_count": 19,
   "metadata": {},
   "outputs": [
    {
     "data": {
      "text/plain": [
       "array([25.07367243, 25.07367243, 25.07367243, ..., 25.07367243,\n",
       "       25.07367243, 25.07367243])"
      ]
     },
     "execution_count": 19,
     "metadata": {},
     "output_type": "execute_result"
    }
   ],
   "source": [
    "Results1['NodeFuelPower']['BA']['GAS'].values+(1.3*Results1['NodeFuelPower']['BA']['GAS'].values)"
   ]
  },
  {
   "cell_type": "code",
   "execution_count": 6,
   "metadata": {},
   "outputs": [
    {
     "name": "stderr",
     "output_type": "stream",
     "text": [
      "\u001b[32m[INFO    ] (gdx_to_list): Loading gdx file ../Simulations/simulation_GCC_int4/Results.gdx took 9.32777285576s\u001b[0m\n",
      "\u001b[32m[INFO    ] (gdx_to_dataframe): Time to convert to dataframes: 24.862046957s\u001b[0m\n"
     ]
    }
   ],
   "source": [
    "from DispaSET.misc.gdx_handler import gdx_to_list, gdx_to_dataframe, get_gams_path\n",
    "resultfile = '../Simulations/simulation_GCC_int4/Results.gdx'\n",
    "gams_dir = '/Applications/GAMS26.1/sysdir'\n",
    "\n",
    "list_gdx = gdx_to_list(gams_dir, resultfile, varname='all', verbose=True)\n",
    "list_gdx['NodeFuelConsumption'] = [[ele[0],ele[2],ele[3]]for ele in list_gdx['NodeFuelConsumption']]\n",
    "list_gdx['NodeFuelCost'] = [[ele[0],ele[2],ele[3]]for ele in list_gdx['NodeFuelCost']]\n",
    "AAA = list_gdx['NodeFuelPower']\n",
    "list_gdx['NodeFuelPower'] = [[ele[0],ele[2],ele[3]]for ele in list_gdx['NodeFuelPower']]\n",
    "Results = gdx_to_dataframe(list_gdx, fixindex=True,verbose=True)"
   ]
  },
  {
   "cell_type": "code",
   "execution_count": 1,
   "metadata": {},
   "outputs": [
    {
     "ename": "ImportError",
     "evalue": "No module named DispaSET.misc.gdx_handler",
     "output_type": "error",
     "traceback": [
      "\u001b[0;31m---------------------------------------------------------------------------\u001b[0m",
      "\u001b[0;31mImportError\u001b[0m                               Traceback (most recent call last)",
      "\u001b[0;32m<ipython-input-1-d44ddcd2e50d>\u001b[0m in \u001b[0;36m<module>\u001b[0;34m()\u001b[0m\n\u001b[0;32m----> 1\u001b[0;31m \u001b[0;32mfrom\u001b[0m \u001b[0mDispaSET\u001b[0m\u001b[0;34m.\u001b[0m\u001b[0mmisc\u001b[0m\u001b[0;34m.\u001b[0m\u001b[0mgdx_handler\u001b[0m \u001b[0;32mimport\u001b[0m \u001b[0mgdx_to_list\u001b[0m\u001b[0;34m,\u001b[0m \u001b[0mgdx_to_dataframe\u001b[0m\u001b[0;34m,\u001b[0m \u001b[0mget_gams_path\u001b[0m\u001b[0;34m\u001b[0m\u001b[0m\n\u001b[0m\u001b[1;32m      2\u001b[0m \u001b[0mresultfile\u001b[0m \u001b[0;34m=\u001b[0m \u001b[0;34m'/Users/abdullahalawad/Dropbox (MIT)/CCES/2017/Energy/Regional trade/UC&ED/Dispa-SET/PycharmProjects/UC/Simulations/simulation_GCC_sub_int5/Results.gdx'\u001b[0m\u001b[0;34m\u001b[0m\u001b[0m\n\u001b[1;32m      3\u001b[0m \u001b[0mgams_dir\u001b[0m \u001b[0;34m=\u001b[0m \u001b[0;34m'/Applications/GAMS26.1/sysdir/gams'\u001b[0m\u001b[0;34m\u001b[0m\u001b[0m\n\u001b[1;32m      4\u001b[0m \u001b[0;34m\u001b[0m\u001b[0m\n\u001b[1;32m      5\u001b[0m \u001b[0;34m\u001b[0m\u001b[0m\n",
      "\u001b[0;31mImportError\u001b[0m: No module named DispaSET.misc.gdx_handler"
     ]
    }
   ],
   "source": [
    "from DispaSET.misc.gdx_handler import gdx_to_list, gdx_to_dataframe, get_gams_path\n",
    "resultfile = '../Simulations/simulation_GCC_sub_int5/Results.gdx'\n",
    "gams_dir = '/Applications/GAMS26.1/sysdir'\n",
    "\n",
    "list_gdx = gdx_to_list(gams_dir, resultfile, varname='all', verbose=True)\n",
    "\n",
    "for element in list_gdx.keys():\n",
    "    try:\n",
    "        if len(list_gdx[element][0])==4:\n",
    "            list_gdx[element] = [[ele[0], ele[2], ele[3]] for ele in list_gdx[element]]\n",
    "    except:\n",
    "        pass\n",
    "Results = gdx_to_dataframe(list_gdx, fixindex=True,verbose=True)"
   ]
  },
  {
   "cell_type": "code",
   "execution_count": null,
   "metadata": {},
   "outputs": [],
   "source": [
    "from DispaSET.misc.gdx_handler import gdx_to_list, gdx_to_dataframe, get_gams_path\n",
    "resultfile = '../Simulations/simulation_GCC_sub_int5/Results.gdx'\n",
    "gams_dir = '/Applications/GAMS26.1/sysdir'\n",
    "\n",
    "list_gdx = gdx_to_list(gams_dir, resultfile, varname='all', verbose=True)\n",
    "list_gdx['PowerFlow']\n"
   ]
  },
  {
   "cell_type": "code",
   "execution_count": null,
   "metadata": {},
   "outputs": [],
   "source": [
    "vars3 = set()\n",
    "for element in list_gdx['PowerFlow']:\n",
    "    if not element[1] in vars3:\n",
    "        vars3.add(element[1])\n",
    "vars3 = list(vars3)"
   ]
  },
  {
   "cell_type": "code",
   "execution_count": null,
   "metadata": {},
   "outputs": [],
   "source": [
    "vars3\n",
    "AA=pd.DataFrame(columns=['AA','BB'],index=vars3)"
   ]
  },
  {
   "cell_type": "code",
   "execution_count": null,
   "metadata": {},
   "outputs": [],
   "source": [
    "AA\n",
    "idx = pd.IndexSlice\n",
    "AA.loc[idx[vars3], idx['AA', 'BB']]"
   ]
  },
  {
   "cell_type": "code",
   "execution_count": null,
   "metadata": {},
   "outputs": [],
   "source": [
    "AA = pd.DataFrame(columns=['ABC','BUR'])\n",
    "\n",
    "CC={'ABC':[3,6,7]}\n",
    "\n",
    "AA['ABC'] = CC"
   ]
  },
  {
   "cell_type": "code",
   "execution_count": null,
   "metadata": {},
   "outputs": [],
   "source": [
    "AA"
   ]
  },
  {
   "cell_type": "code",
   "execution_count": null,
   "metadata": {},
   "outputs": [],
   "source": [
    "vars1 = set()\n",
    "vars1.add('45')\n",
    "contries = ['BA','QA','KSA']\n",
    "vars1 = list(vars1)\n",
    "series_1 = list(vars1 * len(contries))"
   ]
  },
  {
   "cell_type": "code",
   "execution_count": null,
   "metadata": {},
   "outputs": [],
   "source": [
    "series_1"
   ]
  },
  {
   "cell_type": "code",
   "execution_count": null,
   "metadata": {},
   "outputs": [],
   "source": [
    "vars1 = set()\n",
    "vars1.add('45')\n",
    "vars1.add('34')\n",
    "len(vars1)\n",
    "\n",
    "for i in vars1:\n",
    "    print i"
   ]
  },
  {
   "cell_type": "code",
   "execution_count": 60,
   "metadata": {},
   "outputs": [
    {
     "data": {
      "text/plain": [
       "['UAE', 'KSA', 'OM', 'BA', 'QA', 'KW', 'Egypt', 'Jordan', 'Yemen', 'Iraq']"
      ]
     },
     "execution_count": 60,
     "metadata": {},
     "output_type": "execute_result"
    }
   ],
   "source": [
    "import xlrd\n",
    "wb = xlrd.open_workbook(filename='/Users/abdullahalawad/Dropbox (MIT)/CCES/2017/Energy/Regional trade/UC&ED/Dispa-SET/PycharmProjects/UC/Simulations/ConfigGCC.xlsx')\n",
    "sheet = wb.sheet_by_name('main')\n",
    "\n",
    "Countries_list = [item.value.encode(\"utf-8\") for item in sheet.row_slice(rowx=155, start_colx=1, end_colx=100)]\n",
    "Countries_list = [x for x in values if x != '']\n",
    "Countries_list\n"
   ]
  },
  {
   "cell_type": "code",
   "execution_count": 61,
   "metadata": {},
   "outputs": [],
   "source": [
    "B = {}\n",
    "B = B.fromkeys(Countries_list)"
   ]
  },
  {
   "cell_type": "code",
   "execution_count": 62,
   "metadata": {},
   "outputs": [
    {
     "data": {
      "text/plain": [
       "{'BA': None,\n",
       " 'Egypt': None,\n",
       " 'Iraq': None,\n",
       " 'Jordan': None,\n",
       " 'KSA': None,\n",
       " 'KW': None,\n",
       " 'OM': None,\n",
       " 'QA': None,\n",
       " 'UAE': None,\n",
       " 'Yemen': None}"
      ]
     },
     "execution_count": 62,
     "metadata": {},
     "output_type": "execute_result"
    }
   ],
   "source": [
    "B"
   ]
  },
  {
   "cell_type": "code",
   "execution_count": 88,
   "metadata": {},
   "outputs": [],
   "source": [
    "import datetime as dt\n",
    "idx_std = pd.DatetimeIndex(start=pd.datetime(*(2016, 1, 1, 0, 0, 0)), end=pd.datetime(*(2016, 12, 31, 23, 0, 0)),\n",
    "                           freq='1h')\n",
    "idx_utc_noloc = idx_std - dt.timedelta(hours=1)"
   ]
  },
  {
   "cell_type": "code",
   "execution_count": 89,
   "metadata": {},
   "outputs": [
    {
     "data": {
      "text/plain": [
       "8784"
      ]
     },
     "execution_count": 89,
     "metadata": {},
     "output_type": "execute_result"
    }
   ],
   "source": [
    "len(idx_utc_noloc)"
   ]
  },
  {
   "cell_type": "code",
   "execution_count": 100,
   "metadata": {},
   "outputs": [
    {
     "name": "stderr",
     "output_type": "stream",
     "text": [
      "/Library/Frameworks/Python.framework/Versions/2.7/lib/python2.7/site-packages/ipykernel_launcher.py:2: FutureWarning: how in .resample() is deprecated\n",
      "the new syntax is .resample(...).mean()\n",
      "  \n"
     ]
    }
   ],
   "source": [
    "path5 = '../Simulations/Months_Data.csv' \n",
    "AAA.resample('M',how='mean').to_csv(path5)\n"
   ]
  },
  {
   "cell_type": "code",
   "execution_count": 1,
   "metadata": {},
   "outputs": [
    {
     "data": {
      "text/plain": [
       "True"
      ]
     },
     "execution_count": 1,
     "metadata": {},
     "output_type": "execute_result"
    }
   ],
   "source": [
    "FirstCell = 'String'\n",
    "isinstance(FirstCell, basestring)"
   ]
  },
  {
   "cell_type": "code",
   "execution_count": 4,
   "metadata": {},
   "outputs": [
    {
     "data": {
      "text/plain": [
       "False"
      ]
     },
     "execution_count": 4,
     "metadata": {},
     "output_type": "execute_result"
    }
   ],
   "source": [
    "tmp = ['No file']\n",
    "isinstance(tmp, pd.DataFrame)"
   ]
  },
  {
   "cell_type": "code",
   "execution_count": 3,
   "metadata": {},
   "outputs": [
    {
     "ename": "ParserError",
     "evalue": "Error tokenizing data. C error: Expected 1 fields in line 9, saw 2\n",
     "output_type": "error",
     "traceback": [
      "\u001b[0;31m---------------------------------------------------------------------------\u001b[0m",
      "\u001b[0;31mParserError\u001b[0m                               Traceback (most recent call last)",
      "\u001b[0;32m<ipython-input-3-7988098bfc67>\u001b[0m in \u001b[0;36m<module>\u001b[0;34m()\u001b[0m\n\u001b[1;32m      3\u001b[0m \u001b[0msheet\u001b[0m \u001b[0;34m=\u001b[0m \u001b[0mwb\u001b[0m\u001b[0;34m.\u001b[0m\u001b[0msheet_by_name\u001b[0m\u001b[0;34m(\u001b[0m\u001b[0;34m'main'\u001b[0m\u001b[0;34m)\u001b[0m\u001b[0;34m\u001b[0m\u001b[0m\n\u001b[1;32m      4\u001b[0m \u001b[0;34m\u001b[0m\u001b[0m\n\u001b[0;32m----> 5\u001b[0;31m \u001b[0mufo\u001b[0m \u001b[0;34m=\u001b[0m \u001b[0mpd\u001b[0m\u001b[0;34m.\u001b[0m\u001b[0mread_csv\u001b[0m\u001b[0;34m(\u001b[0m\u001b[0;34m'/Users/abdullahalawad/Dropbox (MIT)/CCES/2017/Energy/Regional trade/UC&ED/Dispa-SET/PycharmProjects/UC/Simulations/ConfigGCC.xlsx'\u001b[0m\u001b[0;34m)\u001b[0m\u001b[0;34m\u001b[0m\u001b[0m\n\u001b[0m\u001b[1;32m      6\u001b[0m \u001b[0mufo\u001b[0m\u001b[0;34m\u001b[0m\u001b[0m\n",
      "\u001b[0;32m/anaconda2/lib/python2.7/site-packages/pandas/io/parsers.pyc\u001b[0m in \u001b[0;36mparser_f\u001b[0;34m(filepath_or_buffer, sep, delimiter, header, names, index_col, usecols, squeeze, prefix, mangle_dupe_cols, dtype, engine, converters, true_values, false_values, skipinitialspace, skiprows, nrows, na_values, keep_default_na, na_filter, verbose, skip_blank_lines, parse_dates, infer_datetime_format, keep_date_col, date_parser, dayfirst, iterator, chunksize, compression, thousands, decimal, lineterminator, quotechar, quoting, escapechar, comment, encoding, dialect, tupleize_cols, error_bad_lines, warn_bad_lines, skipfooter, doublequote, delim_whitespace, low_memory, memory_map, float_precision)\u001b[0m\n\u001b[1;32m    676\u001b[0m                     skip_blank_lines=skip_blank_lines)\n\u001b[1;32m    677\u001b[0m \u001b[0;34m\u001b[0m\u001b[0m\n\u001b[0;32m--> 678\u001b[0;31m         \u001b[0;32mreturn\u001b[0m \u001b[0m_read\u001b[0m\u001b[0;34m(\u001b[0m\u001b[0mfilepath_or_buffer\u001b[0m\u001b[0;34m,\u001b[0m \u001b[0mkwds\u001b[0m\u001b[0;34m)\u001b[0m\u001b[0;34m\u001b[0m\u001b[0m\n\u001b[0m\u001b[1;32m    679\u001b[0m \u001b[0;34m\u001b[0m\u001b[0m\n\u001b[1;32m    680\u001b[0m     \u001b[0mparser_f\u001b[0m\u001b[0;34m.\u001b[0m\u001b[0m__name__\u001b[0m \u001b[0;34m=\u001b[0m \u001b[0mname\u001b[0m\u001b[0;34m\u001b[0m\u001b[0m\n",
      "\u001b[0;32m/anaconda2/lib/python2.7/site-packages/pandas/io/parsers.pyc\u001b[0m in \u001b[0;36m_read\u001b[0;34m(filepath_or_buffer, kwds)\u001b[0m\n\u001b[1;32m    444\u001b[0m \u001b[0;34m\u001b[0m\u001b[0m\n\u001b[1;32m    445\u001b[0m     \u001b[0;32mtry\u001b[0m\u001b[0;34m:\u001b[0m\u001b[0;34m\u001b[0m\u001b[0m\n\u001b[0;32m--> 446\u001b[0;31m         \u001b[0mdata\u001b[0m \u001b[0;34m=\u001b[0m \u001b[0mparser\u001b[0m\u001b[0;34m.\u001b[0m\u001b[0mread\u001b[0m\u001b[0;34m(\u001b[0m\u001b[0mnrows\u001b[0m\u001b[0;34m)\u001b[0m\u001b[0;34m\u001b[0m\u001b[0m\n\u001b[0m\u001b[1;32m    447\u001b[0m     \u001b[0;32mfinally\u001b[0m\u001b[0;34m:\u001b[0m\u001b[0;34m\u001b[0m\u001b[0m\n\u001b[1;32m    448\u001b[0m         \u001b[0mparser\u001b[0m\u001b[0;34m.\u001b[0m\u001b[0mclose\u001b[0m\u001b[0;34m(\u001b[0m\u001b[0;34m)\u001b[0m\u001b[0;34m\u001b[0m\u001b[0m\n",
      "\u001b[0;32m/anaconda2/lib/python2.7/site-packages/pandas/io/parsers.pyc\u001b[0m in \u001b[0;36mread\u001b[0;34m(self, nrows)\u001b[0m\n\u001b[1;32m   1034\u001b[0m                 \u001b[0;32mraise\u001b[0m \u001b[0mValueError\u001b[0m\u001b[0;34m(\u001b[0m\u001b[0;34m'skipfooter not supported for iteration'\u001b[0m\u001b[0;34m)\u001b[0m\u001b[0;34m\u001b[0m\u001b[0m\n\u001b[1;32m   1035\u001b[0m \u001b[0;34m\u001b[0m\u001b[0m\n\u001b[0;32m-> 1036\u001b[0;31m         \u001b[0mret\u001b[0m \u001b[0;34m=\u001b[0m \u001b[0mself\u001b[0m\u001b[0;34m.\u001b[0m\u001b[0m_engine\u001b[0m\u001b[0;34m.\u001b[0m\u001b[0mread\u001b[0m\u001b[0;34m(\u001b[0m\u001b[0mnrows\u001b[0m\u001b[0;34m)\u001b[0m\u001b[0;34m\u001b[0m\u001b[0m\n\u001b[0m\u001b[1;32m   1037\u001b[0m \u001b[0;34m\u001b[0m\u001b[0m\n\u001b[1;32m   1038\u001b[0m         \u001b[0;31m# May alter columns / col_dict\u001b[0m\u001b[0;34m\u001b[0m\u001b[0;34m\u001b[0m\u001b[0m\n",
      "\u001b[0;32m/anaconda2/lib/python2.7/site-packages/pandas/io/parsers.pyc\u001b[0m in \u001b[0;36mread\u001b[0;34m(self, nrows)\u001b[0m\n\u001b[1;32m   1846\u001b[0m     \u001b[0;32mdef\u001b[0m \u001b[0mread\u001b[0m\u001b[0;34m(\u001b[0m\u001b[0mself\u001b[0m\u001b[0;34m,\u001b[0m \u001b[0mnrows\u001b[0m\u001b[0;34m=\u001b[0m\u001b[0mNone\u001b[0m\u001b[0;34m)\u001b[0m\u001b[0;34m:\u001b[0m\u001b[0;34m\u001b[0m\u001b[0m\n\u001b[1;32m   1847\u001b[0m         \u001b[0;32mtry\u001b[0m\u001b[0;34m:\u001b[0m\u001b[0;34m\u001b[0m\u001b[0m\n\u001b[0;32m-> 1848\u001b[0;31m             \u001b[0mdata\u001b[0m \u001b[0;34m=\u001b[0m \u001b[0mself\u001b[0m\u001b[0;34m.\u001b[0m\u001b[0m_reader\u001b[0m\u001b[0;34m.\u001b[0m\u001b[0mread\u001b[0m\u001b[0;34m(\u001b[0m\u001b[0mnrows\u001b[0m\u001b[0;34m)\u001b[0m\u001b[0;34m\u001b[0m\u001b[0m\n\u001b[0m\u001b[1;32m   1849\u001b[0m         \u001b[0;32mexcept\u001b[0m \u001b[0mStopIteration\u001b[0m\u001b[0;34m:\u001b[0m\u001b[0;34m\u001b[0m\u001b[0m\n\u001b[1;32m   1850\u001b[0m             \u001b[0;32mif\u001b[0m \u001b[0mself\u001b[0m\u001b[0;34m.\u001b[0m\u001b[0m_first_chunk\u001b[0m\u001b[0;34m:\u001b[0m\u001b[0;34m\u001b[0m\u001b[0m\n",
      "\u001b[0;32mpandas/_libs/parsers.pyx\u001b[0m in \u001b[0;36mpandas._libs.parsers.TextReader.read\u001b[0;34m()\u001b[0m\n",
      "\u001b[0;32mpandas/_libs/parsers.pyx\u001b[0m in \u001b[0;36mpandas._libs.parsers.TextReader._read_low_memory\u001b[0;34m()\u001b[0m\n",
      "\u001b[0;32mpandas/_libs/parsers.pyx\u001b[0m in \u001b[0;36mpandas._libs.parsers.TextReader._read_rows\u001b[0;34m()\u001b[0m\n",
      "\u001b[0;32mpandas/_libs/parsers.pyx\u001b[0m in \u001b[0;36mpandas._libs.parsers.TextReader._tokenize_rows\u001b[0;34m()\u001b[0m\n",
      "\u001b[0;32mpandas/_libs/parsers.pyx\u001b[0m in \u001b[0;36mpandas._libs.parsers.raise_parser_error\u001b[0;34m()\u001b[0m\n",
      "\u001b[0;31mParserError\u001b[0m: Error tokenizing data. C error: Expected 1 fields in line 9, saw 2\n"
     ]
    }
   ],
   "source": [
    "import xlrd\n",
    "wb = xlrd.open_workbook(filename='/Users/abdullahalawad/Dropbox (MIT)/CCES/2017/Energy/Regional trade/UC&ED/Dispa-SET/PycharmProjects/UC/Simulations/ConfigGCC.xlsx')\n",
    "sheet = wb.sheet_by_name('main')\n",
    "\n",
    "ufo = pd.read_csv('/Users/abdullahalawad/Dropbox (MIT)/CCES/2017/Energy/Regional trade/UC&ED/Dispa-SET/PycharmProjects/UC/Simulations/ConfigGCC.xlsx')\n",
    "ufo\n"
   ]
  },
  {
   "cell_type": "code",
   "execution_count": 37,
   "metadata": {},
   "outputs": [
    {
     "name": "stdout",
     "output_type": "stream",
     "text": [
      "0\n",
      "1\n",
      "2\n",
      "3\n",
      "4\n",
      "5\n"
     ]
    }
   ],
   "source": [
    "for i,zone in enumerate(n):\n",
    "    print i"
   ]
  },
  {
   "cell_type": "code",
   "execution_count": 31,
   "metadata": {},
   "outputs": [
    {
     "data": {
      "text/plain": [
       "array([[[0., 0.],\n",
       "        [0., 0.],\n",
       "        [0., 0.],\n",
       "        [0., 0.]],\n",
       "\n",
       "       [[0., 0.],\n",
       "        [0., 0.],\n",
       "        [0., 0.],\n",
       "        [0., 0.]],\n",
       "\n",
       "       [[0., 0.],\n",
       "        [0., 0.],\n",
       "        [0., 0.],\n",
       "        [0., 0.]],\n",
       "\n",
       "       [[0., 0.],\n",
       "        [0., 0.],\n",
       "        [0., 0.],\n",
       "        [0., 0.]],\n",
       "\n",
       "       [[0., 0.],\n",
       "        [0., 0.],\n",
       "        [0., 0.],\n",
       "        [0., 0.]],\n",
       "\n",
       "       [[0., 0.],\n",
       "        [0., 0.],\n",
       "        [0., 0.],\n",
       "        [0., 0.]]])"
      ]
     },
     "execution_count": 31,
     "metadata": {},
     "output_type": "execute_result"
    }
   ],
   "source": [
    "n = ['BA','KW','OM','UAE','QA','KSA']\n",
    "f = ['OIL','HFO','GAS','DSL']\n",
    "t = ['Int', 'Sub']\n",
    "C = [n,f,t]\n",
    "tmp = np.zeros([len(a) for a in C])\n",
    "\n",
    "for i,zone in enumerate(n):\n",
    "    for j,fuel in enumerate(f):\n",
    "        for typ in t:\n",
    "            if typ=='Int' and isinstance(FuelPricesPerZone['International'][fuel], (int, long, float, complex)):\n",
    "                tmp[i][j][0] = FuelPricesPerZone['International'][fuel]\n",
    "            elif typ=='Sub' and isinstance(FuelPricesPerZone[zone][fuel], (int, long, float, complex)):\n",
    "                tmp[i][j][1] = FuelPricesPerZone[zone][fuel]\n",
    "\n",
    "FuelPricesPerZone[zone][FuelEntries[fuel]]\n",
    "values = np.array([\n",
    "        [dd_begin.year, dd_begin.month, dd_begin.day],\n",
    "        [dd_end.year, dd_end.month, dd_end.day],\n",
    "        [0, 0, config['HorizonLength']],\n",
    "        [0, 0, config['LookAhead']]"
   ]
  },
  {
   "cell_type": "code",
   "execution_count": null,
   "metadata": {},
   "outputs": [],
   "source": []
  },
  {
   "cell_type": "code",
   "execution_count": 29,
   "metadata": {},
   "outputs": [
    {
     "data": {
      "text/plain": [
       "0.21440224299160293"
      ]
     },
     "execution_count": 29,
     "metadata": {},
     "output_type": "execute_result"
    }
   ],
   "source": [
    "np.random.rand(1)[0]"
   ]
  },
  {
   "cell_type": "code",
   "execution_count": 37,
   "metadata": {},
   "outputs": [
    {
     "data": {
      "text/plain": [
       "array([[0., 0., 0.],\n",
       "       [0., 0., 0.],\n",
       "       [0., 0., 0.],\n",
       "       [0., 0., 0.]])"
      ]
     },
     "execution_count": 37,
     "metadata": {},
     "output_type": "execute_result"
    }
   ],
   "source": [
    "n = ['FirstDay','LastDay','RollingHorizon Length','RollingHorizon LookAhead']\n",
    "f = ['year','month','day']\n",
    "C = [n,f]\n",
    "AA = np.zeros([len(a) for a in C])\n",
    "\n",
    "for zone in \n",
    "\n",
    "values = np.array([\n",
    "        [dd_begin.year, dd_begin.month, dd_begin.day],\n",
    "        [dd_end.year, dd_end.month, dd_end.day],\n",
    "        [0, 0, config['HorizonLength']],\n",
    "        [0, 0, config['LookAhead']]"
   ]
  },
  {
   "cell_type": "code",
   "execution_count": 45,
   "metadata": {},
   "outputs": [
    {
     "data": {
      "text/plain": [
       "{'C': {'K': 1}}"
      ]
     },
     "execution_count": 45,
     "metadata": {},
     "output_type": "execute_result"
    }
   ],
   "source": [
    "B = {}\n",
    "B['C'] = {}\n",
    "B['C']['K'] = 1\n",
    "B"
   ]
  },
  {
   "cell_type": "code",
   "execution_count": 43,
   "metadata": {},
   "outputs": [
    {
     "data": {
      "text/plain": [
       "nan"
      ]
     },
     "execution_count": 43,
     "metadata": {},
     "output_type": "execute_result"
    }
   ],
   "source": [
    "from DispaSET.misc.gdx_handler import gdx_to_list, gdx_to_dataframe, get_gams_path\n",
    "AA = pd.read_csv('../Database/FuelPrices/FuelPrices.csv', header=0, index_col=0)\n",
    "AA['International']['NUC']\n"
   ]
  },
  {
   "cell_type": "code",
   "execution_count": 45,
   "metadata": {},
   "outputs": [
    {
     "data": {
      "text/plain": [
       "True"
      ]
     },
     "execution_count": 45,
     "metadata": {},
     "output_type": "execute_result"
    }
   ],
   "source": [
    "isinstance(AA['International']['OIL'], (int, long, float, complex)) and AA['International']['OIL'] > 0"
   ]
  },
  {
   "cell_type": "code",
   "execution_count": 47,
   "metadata": {},
   "outputs": [
    {
     "data": {
      "text/plain": [
       "'PriceOfBiomass 2'"
      ]
     },
     "execution_count": 47,
     "metadata": {},
     "output_type": "execute_result"
    }
   ],
   "source": [
    "FuelEntries2 = {'BIO': 'PriceOfBiomass 2', 'GAS': 'PriceOfGas 2', 'HRD': 'PriceOfBlackCoal 2', 'LIG': 'PriceOfLignite 2',\n",
    "                   'NUC': 'PriceOfNuclear 2', 'OIL': 'PriceOfCrudeOil 2', 'PEA': 'PriceOfPeat 2', 'DSL': 'PriceOfDiesel 2',\n",
    "                   'HFO': 'PriceOfHFO 2', 'MSW': 'PriceOfMunicipalSolidWaste 2', 'LFG': 'PriceOfLandFillGas 2'}\n",
    "FuelEntries2['BIO']"
   ]
  },
  {
   "cell_type": "code",
   "execution_count": null,
   "metadata": {},
   "outputs": [],
   "source": []
  }
 ],
 "metadata": {
  "kernelspec": {
   "display_name": "Python 2",
   "language": "python",
   "name": "python2"
  },
  "language_info": {
   "codemirror_mode": {
    "name": "ipython",
    "version": 2
   },
   "file_extension": ".py",
   "mimetype": "text/x-python",
   "name": "python",
   "nbconvert_exporter": "python",
   "pygments_lexer": "ipython2",
   "version": "2.7.15"
  }
 },
 "nbformat": 4,
 "nbformat_minor": 2
}
